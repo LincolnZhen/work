{
 "cells": [
  {
   "cell_type": "code",
   "execution_count": 1,
   "metadata": {},
   "outputs": [],
   "source": [
    "import zmq\n",
    "import random\n",
    "import sys\n",
    "import time\n",
    "# import multiprocessing as mp\n",
    "\n"
   ]
  },
  {
   "cell_type": "code",
   "execution_count": null,
   "metadata": {},
   "outputs": [],
   "source": [
    "context = zmq.Context()\n",
    "port = \"5557\""
   ]
  },
  {
   "cell_type": "code",
   "execution_count": 2,
   "metadata": {},
   "outputs": [],
   "source": [
    "# 服务端\n",
    "\n",
    "socket = context.socket(zmq.PAIR)\n",
    "socket.bind(\"tcp://*:%s\" % port)\n",
    "# socket.connect(\"tcp://localhost:%s\" % port)"
   ]
  },
  {
   "cell_type": "code",
   "execution_count": null,
   "metadata": {},
   "outputs": [],
   "source": []
  },
  {
   "cell_type": "code",
   "execution_count": 3,
   "metadata": {},
   "outputs": [
    {
     "name": "stdout",
     "output_type": "stream",
     "text": [
      "client message to server1\n",
      "client message to server2\n",
      "client message to server1\n",
      "client message to server2\n",
      "client message to server1\n"
     ]
    }
   ],
   "source": [
    "for i in range(5):\n",
    "    socket.send_string(\"Server message to client3\")\n",
    "    msg = socket.recv_string()\n",
    "    print(msg)\n",
    "    time.sleep(1)"
   ]
  },
  {
   "cell_type": "code",
   "execution_count": 5,
   "metadata": {},
   "outputs": [
    {
     "name": "stdout",
     "output_type": "stream",
     "text": [
      "Received request:  World from 5557\n",
      "Received request:  World from 5557\n",
      "Received request:  World from 5557\n",
      "Received request:  World from 5557\n",
      "Received request:  World from 5557\n"
     ]
    }
   ],
   "source": [
    "for i in range(5):\n",
    "    #  Wait for next request from client\n",
    "    message = socket.recv_string()\n",
    "    print(\"Received request: \", message)\n",
    "    time.sleep(1)  \n",
    "    socket.send_string(\"World from %s\" % port)"
   ]
  },
  {
   "cell_type": "code",
   "execution_count": 3,
   "metadata": {},
   "outputs": [],
   "source": [
    "# 服务端\n",
    "context = zmq.Context()\n",
    "socket = context.socket(zmq.PUB)\n",
    "port = '5557'\n",
    "socket.bind(\"tcp://*:%s\" % port)"
   ]
  },
  {
   "cell_type": "code",
   "execution_count": 6,
   "metadata": {},
   "outputs": [
    {
     "name": "stdout",
     "output_type": "stream",
     "text": [
      "9999 26\n",
      "9999 118\n",
      "9999 104\n",
      "10000 50\n",
      "10000 2\n"
     ]
    }
   ],
   "source": [
    "for i in range(5):\n",
    "    topic = random.randrange(9999,10001)\n",
    "    messagedata = random.randrange(1,215) - 80\n",
    "    print(\"%d %d\" % (topic, messagedata))\n",
    "    socket.send_string(\"%d %d\" % (topic, messagedata))\n",
    "    time.sleep(1)"
   ]
  },
  {
   "cell_type": "code",
   "execution_count": null,
   "metadata": {},
   "outputs": [],
   "source": []
  }
 ],
 "metadata": {
  "kernelspec": {
   "display_name": "Python 3",
   "language": "python",
   "name": "python3"
  },
  "language_info": {
   "codemirror_mode": {
    "name": "ipython",
    "version": 3
   },
   "file_extension": ".py",
   "mimetype": "text/x-python",
   "name": "python",
   "nbconvert_exporter": "python",
   "pygments_lexer": "ipython3",
   "version": "3.7.3"
  }
 },
 "nbformat": 4,
 "nbformat_minor": 2
}
