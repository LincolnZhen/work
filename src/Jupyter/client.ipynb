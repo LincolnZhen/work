{
 "cells": [
  {
   "cell_type": "code",
   "execution_count": 4,
   "metadata": {},
   "outputs": [],
   "source": [
    "import zmq\n",
    "import random\n",
    "import sys\n",
    "import time\n",
    "# import multiprocessing as mp\n",
    "\n"
   ]
  },
  {
   "cell_type": "code",
   "execution_count": null,
   "metadata": {},
   "outputs": [],
   "source": [
    "port = \"5557\"\n",
    "context = zmq.Context()\n",
    "socket = context.socket(zmq.PAIR)\n",
    "socket.connect(\"tcp://localhost:%s\" % port)"
   ]
  },
  {
   "cell_type": "code",
   "execution_count": 2,
   "metadata": {},
   "outputs": [
    {
     "name": "stdout",
     "output_type": "stream",
     "text": [
      "Server message to client3\n",
      "Server message to client3\n",
      "Server message to client3\n",
      "Server message to client3\n",
      "Server message to client3\n"
     ]
    }
   ],
   "source": [
    "for i in range(5):\n",
    "    msg = socket.recv_string()\n",
    "    print(msg)\n",
    "    socket.send_string(\"client message to server1\")\n",
    "    socket.send_string(\"client message to server2\")\n",
    "    time.sleep(1)\n"
   ]
  },
  {
   "cell_type": "code",
   "execution_count": 4,
   "metadata": {},
   "outputs": [
    {
     "name": "stdout",
     "output_type": "stream",
     "text": [
      "Sending request  0 ...\n",
      "Received reply  0 [ World from 5557 ]\n",
      "Sending request  1 ...\n",
      "Received reply  1 [ World from 5557 ]\n",
      "Sending request  2 ...\n",
      "Received reply  2 [ World from 5557 ]\n",
      "Sending request  3 ...\n",
      "Received reply  3 [ World from 5557 ]\n",
      "Sending request  4 ...\n",
      "Received reply  4 [ World from 5557 ]\n"
     ]
    }
   ],
   "source": [
    "#  Do 5 requests, waiting each time for a response\n",
    "for request in range (5):\n",
    "    print(\"Sending request \", request,\"...\")\n",
    "    socket.send_string (\"Hello\")\n",
    "    #  Get the reply.\n",
    "    message = socket.recv_string()\n",
    "    print(\"Received reply \", request, \"[\", message, \"]\")"
   ]
  },
  {
   "cell_type": "code",
   "execution_count": 9,
   "metadata": {},
   "outputs": [
    {
     "name": "stdout",
     "output_type": "stream",
     "text": [
      "Collecting updates from weather server...\n"
     ]
    }
   ],
   "source": [
    "context = zmq.Context()\n",
    "socket = context.socket(zmq.SUB)\n",
    "print(\"Collecting updates from weather server...\")\n",
    "port = '5557'\n",
    "\n",
    "socket.connect (\"tcp://localhost:%s\" % port)\n",
    "# Subscribe to 9999\n",
    "topicfilter = \"9999\"\n",
    "socket.setsockopt_string(zmq.SUBSCRIBE, topicfilter)"
   ]
  },
  {
   "cell_type": "code",
   "execution_count": null,
   "metadata": {},
   "outputs": [
    {
     "name": "stdout",
     "output_type": "stream",
     "text": [
      "9999 26\n",
      "9999 118\n",
      "9999 104\n"
     ]
    }
   ],
   "source": [
    "# Process 1 updates\n",
    "total_value = 0\n",
    "for update_nbr in range (5):\n",
    "    string = socket.recv_string()\n",
    "    topic, messagedata = string.split()\n",
    "    total_value += int(messagedata)\n",
    "    print(topic, messagedata)"
   ]
  },
  {
   "cell_type": "code",
   "execution_count": null,
   "metadata": {},
   "outputs": [],
   "source": []
  }
 ],
 "metadata": {
  "kernelspec": {
   "display_name": "Python 3",
   "language": "python",
   "name": "python3"
  },
  "language_info": {
   "codemirror_mode": {
    "name": "ipython",
    "version": 3
   },
   "file_extension": ".py",
   "mimetype": "text/x-python",
   "name": "python",
   "nbconvert_exporter": "python",
   "pygments_lexer": "ipython3",
   "version": "3.7.3"
  }
 },
 "nbformat": 4,
 "nbformat_minor": 2
}
