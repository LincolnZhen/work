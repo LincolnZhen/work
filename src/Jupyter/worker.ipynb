{
 "cells": [
  {
   "cell_type": "code",
   "execution_count": 1,
   "metadata": {},
   "outputs": [],
   "source": [
    "import multiprocessing as mp\n",
    "from multiprocessing import Process\n",
    "import zmq"
   ]
  },
  {
   "cell_type": "code",
   "execution_count": 2,
   "metadata": {},
   "outputs": [],
   "source": [
    "context = zmq.Context()"
   ]
  },
  {
   "cell_type": "code",
   "execution_count": 3,
   "metadata": {},
   "outputs": [],
   "source": [
    "class Worker(Process):\n",
    "    def __init__(self, worker_id):\n",
    "        super().__init__()\n",
    "        self.worker_id = worker_id\n",
    "        print(self.worker_id,'init')\n",
    "    def run(self):\n",
    "        # recieve work\n",
    "        print(self.worker_id,'run')\n",
    "        consumer_receiver = context.socket(zmq.PULL)\n",
    "        consumer_receiver.connect(\"tcp://127.0.0.1:5558\")\n",
    "        # send work\n",
    "        consumer_sender = context.socket(zmq.PUSH)\n",
    "        consumer_sender.connect(\"tcp://127.0.0.1:5559\")\n",
    "        print(f\"worker[{self.worker_id}] stand by ...\")\n",
    "        \n",
    "        for _ in range(5):\n",
    "            work = consumer_receiver.recv_json()\n",
    "            data = work['num']\n",
    "            print(f\"worker[{self.worker_id}] data: {data}\")\n",
    "            result = { 'consumer' : self.worker_id, 'num' : data}\n",
    "            consumer_sender.send_json(result)"
   ]
  },
  {
   "cell_type": "code",
   "execution_count": 4,
   "metadata": {},
   "outputs": [
    {
     "name": "stdout",
     "output_type": "stream",
     "text": [
      "0 init\n",
      "1 init\n",
      "0 run\n",
      "worker[0] stand by ...\n",
      "worker[0] data: 0\n",
      "worker[0] data: 1\n",
      "worker[0] data: 2\n",
      "worker[0] data: 3\n",
      "worker[0] data: 4\n",
      "1 run\n",
      "worker[1] stand by ...\n",
      "worker[1] data: 0\n",
      "worker[1] data: 1\n",
      "worker[1] data: 2\n",
      "worker[1] data: 3\n",
      "worker[1] data: 4\n"
     ]
    }
   ],
   "source": [
    "# 开启两个消费者（worker）进程\n",
    "context = zmq.Context()\n",
    "worker1 = Worker(0)\n",
    "worker2 = Worker(1)\n",
    "p1 = Process(name = \"worker1\",target = worker1.run())\n",
    "p2 = Process(name = \"worker2\",target = worker2.run())\n",
    "p1.start()\n",
    "p2.start()"
   ]
  },
  {
   "cell_type": "code",
   "execution_count": null,
   "metadata": {},
   "outputs": [],
   "source": []
  }
 ],
 "metadata": {
  "kernelspec": {
   "display_name": "Python 3",
   "language": "python",
   "name": "python3"
  },
  "language_info": {
   "codemirror_mode": {
    "name": "ipython",
    "version": 3
   },
   "file_extension": ".py",
   "mimetype": "text/x-python",
   "name": "python",
   "nbconvert_exporter": "python",
   "pygments_lexer": "ipython3",
   "version": "3.7.3"
  }
 },
 "nbformat": 4,
 "nbformat_minor": 2
}
