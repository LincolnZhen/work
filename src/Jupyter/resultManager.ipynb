{
 "cells": [
  {
   "cell_type": "code",
   "execution_count": 1,
   "metadata": {},
   "outputs": [],
   "source": [
    "import zmq\n"
   ]
  },
  {
   "cell_type": "code",
   "execution_count": 2,
   "metadata": {},
   "outputs": [
    {
     "name": "stdout",
     "output_type": "stream",
     "text": [
      "{'consumer': 0, 'num': 0}\n",
      "{'consumer': 0, 'num': 1}\n",
      "{'consumer': 0, 'num': 2}\n",
      "{'consumer': 0, 'num': 3}\n",
      "{'consumer': 0, 'num': 4}\n",
      "{'consumer': 1, 'num': 0}\n",
      "{'consumer': 1, 'num': 1}\n",
      "{'consumer': 1, 'num': 2}\n",
      "{'consumer': 1, 'num': 3}\n",
      "{'consumer': 1, 'num': 4}\n"
     ]
    }
   ],
   "source": [
    "context = zmq.Context()\n",
    "results_receiver = context.socket(zmq.PULL)\n",
    "results_receiver.bind(\"tcp://127.0.0.1:5559\")\n",
    "for x in range(10):\n",
    "    result = results_receiver.recv_json()\n",
    "    print(result)"
   ]
  },
  {
   "cell_type": "code",
   "execution_count": null,
   "metadata": {},
   "outputs": [],
   "source": []
  }
 ],
 "metadata": {
  "kernelspec": {
   "display_name": "Python 3",
   "language": "python",
   "name": "python3"
  },
  "language_info": {
   "codemirror_mode": {
    "name": "ipython",
    "version": 3
   },
   "file_extension": ".py",
   "mimetype": "text/x-python",
   "name": "python",
   "nbconvert_exporter": "python",
   "pygments_lexer": "ipython3",
   "version": "3.7.3"
  }
 },
 "nbformat": 4,
 "nbformat_minor": 2
}
